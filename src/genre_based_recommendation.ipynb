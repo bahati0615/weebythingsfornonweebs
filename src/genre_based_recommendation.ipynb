{
 "cells": [
  {
   "cell_type": "code",
   "execution_count": 3,
   "id": "equal-abraham",
   "metadata": {},
   "outputs": [
    {
     "name": "stdout",
     "output_type": "stream",
     "text": [
      "3965                                               Naruto\n",
      "8693                      Boruto: Jump Festa 2016 Special\n",
      "152                                     Dragon Ball Super\n",
      "825                                         Dragon Ball Z\n",
      "1181    Dragon Ball GT: Gokuu Gaiden! Yuuki no Akashi ...\n",
      "3050               Dragon Ball Z: Summer Vacation Special\n",
      "3198                               Dragon Ball Kai (2014)\n",
      "5239                Dragon Ball Z Movie 15: Fukkatsu no F\n",
      "6972                                      Dragon Ball Kai\n",
      "8337    Dragon Ball Z Movie 11: Super Senshi Gekiha!! ...\n",
      "Name: title, dtype: object\n"
     ]
    }
   ],
   "source": [
    "import pandas as pd\n",
    "from sklearn.feature_extraction.text import CountVectorizer\n",
    "from sklearn.metrics.pairwise import cosine_similarity\n",
    "\n",
    "\n",
    "# read & import data into pandas data frame\n",
    "anime_data = \"anime.csv\"\n",
    "# set maximum number of rows to 20 & define NaN identifiers\n",
    "pd.set_option('max_rows', 20)\n",
    "idntfrs = ['na', '-', '--', '?', 'None', 'none', 'non', '', 'Not available', ' ']\n",
    "anime_df = pd.read_csv(anime_data, na_values=idntfrs)\n",
    "\n",
    "# discard unwanted items\n",
    "anime_df.drop(['status', 'aired_string', 'score',\n",
    "               'scored_by', 'members', 'popularity', 'rank'],\n",
    "              axis=1, inplace=True)\n",
    "\n",
    "# print(anime_df.head(3))\n",
    "anime_df['genre'] = anime_df['genre'].str.lower()\n",
    "# print(anime_df.head(3))\n",
    "anime_df['genre'] = anime_df['genre'].str.replace(',', '')\n",
    "# print(anime_df.dtypes)\n",
    "# print(anime_df.shape)\n",
    "# print(anime_df[['anime_id', 'genre']].head(3))\n",
    "# print(anime_df.head(3))\n",
    "\n",
    "count = CountVectorizer(stop_words='english')\n",
    "count_matrix = count.fit_transform(anime_df['genre'])\n",
    "# print(count_matrix.shape)\n",
    "\n",
    "cos_sim = cosine_similarity(count_matrix, count_matrix)\n",
    "\n",
    "def get_genre_based_recommendation(anime, cosine_sim=cos_sim, animes_to_recommend=10):\n",
    "    anime_in_data = anime_df[anime_df['title'] == anime]\n",
    "    # print(anime_in_data)\n",
    "\n",
    "    if len(anime_in_data):\n",
    "        # print(anime_in_data['anime_id'])\n",
    "        anime_id_idx = anime_df[anime_df['anime_id'] == int(anime_in_data['anime_id'])].index.values.astype(int)[0]\n",
    "        # .index.values.astype(int)[0]\n",
    "        # print(anime_id_idx)\n",
    "\n",
    "        sim_scores = list(enumerate(cosine_sim[anime_id_idx]))\n",
    "        # print(sim_scores)\n",
    "\n",
    "        sim_scores = sorted(sim_scores, key=lambda x: x[1], reverse=True)\n",
    "\n",
    "        sim_scores = sim_scores[:animes_to_recommend + 1]\n",
    "        sim_scores = sim_scores[1:]\n",
    "        # print(sim_scores)\n",
    "\n",
    "        anime_indices = [idx[0] for idx in sim_scores]\n",
    "        # print(anime_indices)\n",
    "\n",
    "        return anime_df['title'].iloc[anime_indices]\n",
    "\n",
    "print(get_genre_based_recommendation(\"Naruto\"))"
   ]
  },
  {
   "cell_type": "code",
   "execution_count": null,
   "id": "vocal-danish",
   "metadata": {},
   "outputs": [],
   "source": []
  },
  {
   "cell_type": "code",
   "execution_count": null,
   "id": "permanent-leader",
   "metadata": {},
   "outputs": [],
   "source": []
  },
  {
   "cell_type": "code",
   "execution_count": null,
   "id": "passive-cloud",
   "metadata": {},
   "outputs": [],
   "source": []
  }
 ],
 "metadata": {
  "kernelspec": {
   "display_name": "ECE143",
   "language": "python",
   "name": "ece143"
  },
  "language_info": {
   "codemirror_mode": {
    "name": "ipython",
    "version": 3
   },
   "file_extension": ".py",
   "mimetype": "text/x-python",
   "name": "python",
   "nbconvert_exporter": "python",
   "pygments_lexer": "ipython3",
   "version": "3.8.7"
  }
 },
 "nbformat": 4,
 "nbformat_minor": 5
}
