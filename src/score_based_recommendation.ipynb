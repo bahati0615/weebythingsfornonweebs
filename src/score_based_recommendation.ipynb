{
 "cells": [
  {
   "cell_type": "code",
   "execution_count": 5,
   "id": "equal-abraham",
   "metadata": {},
   "outputs": [
    {
     "name": "stdout",
     "output_type": "stream",
     "text": [
      "['Kämpfer Picture Drama', 'Dansai Bunri no Crime Edge', 'Koguma no Misha', 'Bakugan Battle Brawlers: New Vestroia', 'Wangan Midnight', 'Mikan Seijin Arawaru', 'Kizuna (ONA)', 'Wangpai Yushi', 'Gorillaman', 'One More Time, One More Chance', 'Kowarekake no Orgel']\n"
     ]
    }
   ],
   "source": [
    "# import libraries\n",
    "import pandas as pd\n",
    "from scipy.sparse import csr_matrix\n",
    "from sklearn.neighbors import NearestNeighbors\n",
    "\n",
    "# read & import data into pandas data frame\n",
    "anime_data = \"anime.csv\"\n",
    "\n",
    "# set maximum number of rows to 20 & define NaN identifiers\n",
    "pd.set_option('max_rows', 20)\n",
    "\n",
    "anime_df = pd.read_csv(anime_data)\n",
    "\n",
    "# get weighted score\n",
    "anime_df[\"weighted_score\"] = anime_df[\"score\"] * anime_df[\"scored_by\"] * 0.1\n",
    "\n",
    "# print(anime_df.head())\n",
    "# print(anime_df.nlargest(20, 'weighted_score'))\n",
    "\n",
    "#Reducing sparsity using csr_matrix\n",
    "csr_anime = csr_matrix((anime_df[\"weighted_score\"], (anime_df.index, anime_df[\"anime_id\"])))\n",
    "# print(csr_anime)\n",
    "\n",
    "# KNN with cosine distance metric\n",
    "knn = NearestNeighbors(metric='cosine', algorithm='brute', n_neighbors=20, n_jobs=-1)\n",
    "knn.fit(csr_anime)\n",
    "\n",
    "\n",
    "def get_score_based_recommendation(movie_name):\n",
    "    animes_to_recommend = 10\n",
    "    anime_in_data = anime_df[anime_df['title'].str.contains(movie_name, na=False)]\n",
    "    # print(anime_in_data)\n",
    "    if len(anime_in_data):\n",
    "        anime_id = anime_in_data[\"anime_id\"]\n",
    "\n",
    "        distances, indices = knn.kneighbors(csr_anime[anime_id], n_neighbors=animes_to_recommend + 1)\n",
    "        # print(distances)\n",
    "        distances = distances[0]\n",
    "        indices = indices[0]\n",
    "        # print(indices)\n",
    "\n",
    "        pairs = list(tuple(zip(indices, distances)))\n",
    "        # print(pairs)\n",
    "\n",
    "        recommended_animes = []\n",
    "\n",
    "        for pair in pairs:\n",
    "            possible_recommended_anime = anime_df.iloc[pair[0]][\"title\"]\n",
    "            recommended_animes.append(possible_recommended_anime)\n",
    "\n",
    "            # debug recommendation check\n",
    "            # recommended_animes.append({'Title': anime_df.iloc[pair[0]]['title_english'], 'Distance': pair[1]})\n",
    "\n",
    "        return recommended_animes\n",
    "    else:\n",
    "        return \"No such anime in our records, please check again\"\n",
    "\n",
    "\n",
    "print(get_score_based_recommendation(\"Princess Tutu\"))"
   ]
  },
  {
   "cell_type": "code",
   "execution_count": null,
   "id": "vocal-danish",
   "metadata": {},
   "outputs": [],
   "source": []
  },
  {
   "cell_type": "code",
   "execution_count": null,
   "id": "permanent-leader",
   "metadata": {},
   "outputs": [],
   "source": []
  },
  {
   "cell_type": "code",
   "execution_count": null,
   "id": "passive-cloud",
   "metadata": {},
   "outputs": [],
   "source": []
  }
 ],
 "metadata": {
  "kernelspec": {
   "display_name": "ECE143",
   "language": "python",
   "name": "ece143"
  },
  "language_info": {
   "codemirror_mode": {
    "name": "ipython",
    "version": 3
   },
   "file_extension": ".py",
   "mimetype": "text/x-python",
   "name": "python",
   "nbconvert_exporter": "python",
   "pygments_lexer": "ipython3",
   "version": "3.8.7"
  }
 },
 "nbformat": 4,
 "nbformat_minor": 5
}
